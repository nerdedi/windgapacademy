{
 "cells": [
  {
   "cell_type": "markdown",
   "id": "b0c5ed48",
   "metadata": {},
   "source": [
    "# Import Required Libraries\n",
    "This section imports the necessary Python modules for converting a Jupyter notebook to a Python script and cleaning up the output. We use `argparse`, `os`, and `subprocess`."
   ]
  },
  {
   "cell_type": "code",
   "execution_count": null,
   "id": "aa593cee",
   "metadata": {},
   "outputs": [],
   "source": [
    "import argparse\n",
    "import os\n",
    "import subprocess"
   ]
  },
  {
   "cell_type": "markdown",
   "id": "0a14b21d",
   "metadata": {},
   "source": [
    "# Define Notebook Conversion Function\n",
    "This section implements the `convert()` function, which uses `jupyter nbconvert` to convert a notebook to a Python script."
   ]
  },
  {
   "cell_type": "code",
   "execution_count": null,
   "id": "e9a7edd8",
   "metadata": {},
   "outputs": [],
   "source": [
    "def convert(input_path, output_path):\n",
    "    subprocess.call(['jupyter', 'nbconvert', '--to', 'script',\n",
    "                     input_path, '--output', output_path])"
   ]
  },
  {
   "cell_type": "markdown",
   "id": "4c03ac2e",
   "metadata": {},
   "source": [
    "# Define Cleanup Function\n",
    "This section implements the `cleanup()` function to remove unwanted lines and organize imports in the converted Python script."
   ]
  },
  {
   "cell_type": "code",
   "execution_count": null,
   "id": "55553a78",
   "metadata": {},
   "outputs": [],
   "source": [
    "def cleanup(path):\n",
    "    skip_lines_startwith = ('Image(filename=', '# In[', '# <hr>',\n",
    "                            'from IPython.display import Image', 'get_ipython()', '# <br>')\n",
    "    clean_content = []\n",
    "    imports = []\n",
    "    existing_imports = set()\n",
    "    with open(path, 'r') as f:\n",
    "        next(f)\n",
    "        next(f)\n",
    "        for line in f:\n",
    "            line = line.rstrip(' ')\n",
    "            if line.startswith(skip_lines_startwith):\n",
    "                continue\n",
    "            if line.startswith('import ') or (\n",
    "                    'from ' in line and 'import ' in line):\n",
    "                if 'from __future__ import print_function' in line:\n",
    "                    if line != imports[0]:\n",
    "                        imports.insert(0, line)\n",
    "                else:\n",
    "                    if line.strip() not in existing_imports:\n",
    "                        imports.append(line)\n",
    "                        existing_imports.add(line.strip())\n",
    "            else:\n",
    "                clean_content.append(line)\n",
    "    clean_content = ['# coding: utf-8\\n\\n\\n'] + imports + clean_content\n",
    "    with open(path, 'w') as f:\n",
    "        for line in clean_content:\n",
    "            f.write(line)\n"
   ]
  },
  {
   "cell_type": "markdown",
   "id": "e8a68c52",
   "metadata": {},
   "source": [
    "# Parse Command-Line Arguments\n",
    "This section uses `argparse` to parse input and output file paths and handle version information for the script."
   ]
  },
  {
   "cell_type": "code",
   "execution_count": null,
   "id": "e1cb385a",
   "metadata": {},
   "outputs": [],
   "source": [
    "if __name__ == '__main__':\n",
    "    parser = argparse.ArgumentParser(\n",
    "            description='Convert Jupyter notebook to Python script.',\n",
    "            formatter_class=argparse.RawTextHelpFormatter)\n",
    "    parser.add_argument('-i', '--input', required=True, help='Path to the Jupyter Notebook file')\n",
    "    parser.add_argument('-o', '--output', required=True, help='Path to the Python script file')\n",
    "    parser.add_argument('-v', '--version', action='version', version='v. 0.1')\n",
    "    args = parser.parse_args()"
   ]
  },
  {
   "cell_type": "markdown",
   "id": "bbe997de",
   "metadata": {},
   "source": [
    "# Run Conversion and Cleanup\n",
    "This section executes the conversion and cleanup functions using the parsed arguments."
   ]
  },
  {
   "cell_type": "code",
   "execution_count": null,
   "id": "248ab9cd",
   "metadata": {},
   "outputs": [],
   "source": [
    "    convert(input_path=args.input, output_path=os.path.splitext(args.output)[0])\n",
    "    cleanup(args.output)"
   ]
  }
 ],
 "metadata": {
  "language_info": {
   "name": "python"
  }
 },
 "nbformat": 4,
 "nbformat_minor": 5
}
